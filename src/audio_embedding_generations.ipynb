{
 "cells": [
  {
   "cell_type": "markdown",
   "metadata": {},
   "source": [
    "### What are the problems we are facing:\n",
    "\n",
    "- Audio Book being downloaded in a big chunk so we still need to process the whole chunk (Not much of a problem since we still need to get the timestamp from it)\n",
    "\n",
    "### Current approach\n",
    "- Transcibe the audiobook --> Chunk using transribed chapters  --> Run the summarizer --> Fetch audio Using (BM25/TF) --> Narrate over the summary to ensure coherence\n",
    "- Step 2-3 can be run in parallel with the transcibe step if we have a pdf version of the book -->   <^>\n",
    "\n",
    "### "
   ]
  },
  {
   "cell_type": "code",
   "execution_count": null,
   "metadata": {
    "vscode": {
     "languageId": "plaintext"
    }
   },
   "outputs": [],
   "source": []
  },
  {
   "cell_type": "markdown",
   "metadata": {},
   "source": []
  }
 ],
 "metadata": {
  "language_info": {
   "name": "python"
  }
 },
 "nbformat": 4,
 "nbformat_minor": 2
}
