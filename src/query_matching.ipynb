{
 "cells": [
  {
   "cell_type": "code",
   "execution_count": null,
   "metadata": {},
   "outputs": [],
   "source": [
    "#Importing stuffs\n",
    "import markdown\n",
    "import os"
   ]
  },
  {
   "cell_type": "code",
   "execution_count": null,
   "metadata": {},
   "outputs": [],
   "source": [
    "def read_and_parse_markdown(file_path):\n",
    "    \"\"\"\n",
    "    Reads a markdown file and parses it into HTML.\n",
    "    \n",
    "    :param file_path: Path to the markdown file.\n",
    "    :return: Parsed HTML content.\n",
    "    \"\"\"\n",
    "    with open(file_path, 'r', encoding='utf-8') as file:\n",
    "        markdown_content = file.read()\n",
    "    html_content = markdown.markdown(markdown_content)\n",
    "    return html_content"
   ]
  },
  {
   "cell_type": "code",
   "execution_count": null,
   "metadata": {},
   "outputs": [],
   "source": [
    "# 1. Read in the markdown file and the original pdf file\n",
    "pdf_path = \"path/to/original.pdf\"\n",
    "markdown_path = \"path/to/markdown.md\"\n",
    "\n",
    "# 2. Parse the markdown file\n",
    "# 3. Extract the text and images\n",
    "# 4. Pass into an LLM to extract important verbatim snippets\n",
    "# 5. Highlight the important snippets in the original pdf file"
   ]
  }
 ],
 "metadata": {
  "kernelspec": {
   "display_name": ".venv",
   "language": "python",
   "name": "python3"
  },
  "language_info": {
   "name": "python",
   "version": "3.13.0"
  }
 },
 "nbformat": 4,
 "nbformat_minor": 2
}
